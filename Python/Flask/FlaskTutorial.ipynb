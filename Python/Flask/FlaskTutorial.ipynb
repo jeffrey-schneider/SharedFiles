{
 "cells": [
  {
   "cell_type": "markdown",
   "id": "3367fe1c-ddd9-4211-ba16-17ed60ab80ce",
   "metadata": {},
   "source": [
    "# <h1 style=\"font-size:3rem;color:orange;\">Flask Tutorial</h1>"
   ]
  },
  {
   "cell_type": "markdown",
   "id": "09ade46b-6545-4472-b3aa-f216c82f35bb",
   "metadata": {},
   "source": [
    "## Examples from https://www.tutorialspoint.com/flask/index.htm<sup>1</sup>  and  https://flask.palletsprojects.com/en/2.2.x/tutorial/<sup>2</sup>"
   ]
  },
  {
   "cell_type": "markdown",
   "id": "84415490-87fe-465c-8d97-8885ee1d7bb6",
   "metadata": {},
   "source": [
    "### mkdir flask-tutorial\n",
    "cd flask-tutorial\n",
    "\n",
    "(My flask tutorial resides at C:\\local\\Python\\flask-tutorial> )"
   ]
  },
  {
   "cell_type": "markdown",
   "id": "9e2ee753-62ad-4ac1-9cb8-2f2884a6db35",
   "metadata": {},
   "source": [
    "### Virtual Environment Setup"
   ]
  },
  {
   "cell_type": "markdown",
   "id": "1f0fd445-057f-4e36-b648-f054c2292b6b",
   "metadata": {},
   "source": [
    "Create a virtual environment in that folder with \"py -3 -m venv venv"
   ]
  },
  {
   "cell_type": "markdown",
   "id": "cbe066bd-d45c-4eaf-8593-e7597fdbbcb2",
   "metadata": {},
   "source": [
    "Activate the environment with \"venv\\Scripts\\activate\""
   ]
  },
  {
   "cell_type": "markdown",
   "id": "c7bb4381-6311-45eb-9ec8-60987b9329ad",
   "metadata": {},
   "source": [
    "#### Created 04/13/2023 <p>&copy; 2023 Jeffrey Schneider</p>"
   ]
  },
  {
   "cell_type": "code",
   "execution_count": null,
   "id": "f60d834b-75f3-4981-acbb-4b0be92d7af2",
   "metadata": {},
   "outputs": [],
   "source": []
  }
 ],
 "metadata": {
  "kernelspec": {
   "display_name": "Python 3",
   "language": "python",
   "name": "python3"
  },
  "language_info": {
   "codemirror_mode": {
    "name": "ipython",
    "version": 3
   },
   "file_extension": ".py",
   "mimetype": "text/x-python",
   "name": "python",
   "nbconvert_exporter": "python",
   "pygments_lexer": "ipython3",
   "version": "3.9.1"
  }
 },
 "nbformat": 4,
 "nbformat_minor": 5
}
